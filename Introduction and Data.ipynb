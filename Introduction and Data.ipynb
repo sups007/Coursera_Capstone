{
    "cells": [
        {
            "cell_type": "markdown",
            "metadata": {
                "collapsed": true
            },
            "source": "# 1. Introduction"
        },
        {
            "cell_type": "markdown",
            "metadata": {},
            "source": "Starting from the end of 2019, COVID-19, an infectious disease caused by a newly discovered coronavirus, has spread over the world and killing almost 200,000 lives up to Apr 24th, 2020. It is confirmed COVID-19 can mainly be transmitted over droplet and airborne. It can be transmitted even faster among crowded spaces like some specific places or venues. This is why when the virus outbreak becomes severe, restaurants, clubs, gyms, etc are forced to shut down to enforce the social distance. This study is an exploratory analysis of how the severity of COVID-19 outbreak is related to the neighborhood with various venues. More specifically this study focuses on New York City."
        },
        {
            "cell_type": "markdown",
            "metadata": {},
            "source": "# 2. Data"
        },
        {
            "cell_type": "markdown",
            "metadata": {},
            "source": "This study mainly focuses on New York City. The reason is that NYC is the most harshly impacted by the virus meanwhile it is one of the most modern cities with the complete city systems and variety of the venues. Besides, New York City provides the data on boroughs level. \n\nTo explore the relation between neighborhood with various venues and the number of confirmed, we will cluster the neighborhood based on the compositions of the venues. And then, we will visualize the clustered labels on the heated map of confirmed cases on NYC map. To reach the goal, we need data on geoinformation of the neighborhoods in NYC, venues in all neighborhoods, boundaries of boroughs in NYC, and the number of cases in NYC.\n\nThe data will be collected from four sources. The venues data is collected through the Foursquare API. The geo info of all neighborhoods in NYC is from IBM Cognitive Lab. The borough boundaries in NYC data is from dwillis on Github. And at last, the confirmed cases by boroughs in NYC is from the NYC government website. We only use the number of the confirmed till April 22th, 2020.\n\nThis is data of confirmed cases in NYC, other data will be preprocessed in the data processing section in the next week."
        },
        {
            "cell_type": "code",
            "execution_count": 5,
            "metadata": {},
            "outputs": [
                {
                    "data": {
                        "text/html": "<div>\n<style scoped>\n    .dataframe tbody tr th:only-of-type {\n        vertical-align: middle;\n    }\n\n    .dataframe tbody tr th {\n        vertical-align: top;\n    }\n\n    .dataframe thead th {\n        text-align: right;\n    }\n</style>\n<table border=\"1\" class=\"dataframe\">\n  <thead>\n    <tr style=\"text-align: right;\">\n      <th></th>\n      <th>Borough</th>\n      <th>Confirmed_per_100k</th>\n      <th>Confirmed</th>\n    </tr>\n  </thead>\n  <tbody>\n    <tr>\n      <th>0</th>\n      <td>Bronx</td>\n      <td>2168.35</td>\n      <td>31911</td>\n    </tr>\n    <tr>\n      <th>1</th>\n      <td>Brooklyn</td>\n      <td>1384.30</td>\n      <td>37564</td>\n    </tr>\n    <tr>\n      <th>2</th>\n      <td>Manhattan</td>\n      <td>943.61</td>\n      <td>17803</td>\n    </tr>\n    <tr>\n      <th>3</th>\n      <td>Queens</td>\n      <td>1748.42</td>\n      <td>43824</td>\n    </tr>\n    <tr>\n      <th>4</th>\n      <td>Staten Island</td>\n      <td>2109.68</td>\n      <td>10582</td>\n    </tr>\n  </tbody>\n</table>\n</div>",
                        "text/plain": "         Borough  Confirmed_per_100k  Confirmed\n0          Bronx             2168.35      31911\n1       Brooklyn             1384.30      37564\n2      Manhattan              943.61      17803\n3         Queens             1748.42      43824\n4  Staten Island             2109.68      10582"
                    },
                    "execution_count": 5,
                    "metadata": {},
                    "output_type": "execute_result"
                }
            ],
            "source": "df_cov_nycity.head()"
        },
        {
            "cell_type": "code",
            "execution_count": null,
            "metadata": {},
            "outputs": [],
            "source": ""
        }
    ],
    "metadata": {
        "kernelspec": {
            "display_name": "Python 3.6",
            "language": "python",
            "name": "python3"
        },
        "language_info": {
            "codemirror_mode": {
                "name": "ipython",
                "version": 3
            },
            "file_extension": ".py",
            "mimetype": "text/x-python",
            "name": "python",
            "nbconvert_exporter": "python",
            "pygments_lexer": "ipython3",
            "version": "3.6.9"
        }
    },
    "nbformat": 4,
    "nbformat_minor": 1
}